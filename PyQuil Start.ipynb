{
 "cells": [
  {
   "cell_type": "code",
   "execution_count": 1,
   "metadata": {},
   "outputs": [],
   "source": [
    "from pyquil import Program, get_qc\n",
    "from pyquil.gates import *"
   ]
  },
  {
   "cell_type": "code",
   "execution_count": 2,
   "metadata": {},
   "outputs": [
    {
     "name": "stderr",
     "output_type": "stream",
     "text": [
      "C:\\ProgramData\\Anaconda3\\lib\\site-packages\\pyquil\\api\\_quantum_computer.py:1065: RuntimeWarning: Unable to start qvm server, since the specified port 5000 is in use.\n",
      "  warnings.warn(RuntimeWarning(warning_msg))\n",
      "C:\\ProgramData\\Anaconda3\\lib\\site-packages\\pyquil\\api\\_quantum_computer.py:1074: RuntimeWarning: Unable to start quilc server, since the specified port 5555 is in use.\n",
      "  warnings.warn(RuntimeWarning(warning_msg))\n"
     ]
    }
   ],
   "source": [
    "from pyquil import get_qc, Program\n",
    "from pyquil.gates import CNOT, Z, H\n",
    "from pyquil.api import local_forest_runtime\n",
    "\n",
    "prog = Program(Z(0), CNOT(0, 1))\n",
    "\n",
    "with local_forest_runtime():\n",
    "    qvm  = get_qc('9q-square-qvm')\n",
    "    results = qvm.run_and_measure(prog, trials = 10)"
   ]
  },
  {
   "cell_type": "markdown",
   "metadata": {},
   "source": [
    "Let’s construct our Bell State"
   ]
  },
  {
   "cell_type": "code",
   "execution_count": 3,
   "metadata": {},
   "outputs": [],
   "source": [
    "#construct a Bell state program\n",
    "p = Program(H(0), CNOT(0, 1))"
   ]
  },
  {
   "cell_type": "code",
   "execution_count": 4,
   "metadata": {},
   "outputs": [
    {
     "name": "stdout",
     "output_type": "stream",
     "text": [
      "[0 0 0 0 0 0 0 0 0 0]\n",
      "[0 0 0 0 0 0 0 0 0 0]\n"
     ]
    }
   ],
   "source": [
    "#run the program on a QVM\n",
    "qc = get_qc('9q-square-qvm')\n",
    "results = qvm.run_and_measure(prog, trials = 10)\n",
    "print(results[0])\n",
    "print(results[1])"
   ]
  },
  {
   "cell_type": "code",
   "execution_count": null,
   "metadata": {},
   "outputs": [],
   "source": []
  }
 ],
 "metadata": {
  "kernelspec": {
   "display_name": "Python 3",
   "language": "python",
   "name": "python3"
  },
  "language_info": {
   "codemirror_mode": {
    "name": "ipython",
    "version": 3
   },
   "file_extension": ".py",
   "mimetype": "text/x-python",
   "name": "python",
   "nbconvert_exporter": "python",
   "pygments_lexer": "ipython3",
   "version": "3.7.7"
  }
 },
 "nbformat": 4,
 "nbformat_minor": 4
}
